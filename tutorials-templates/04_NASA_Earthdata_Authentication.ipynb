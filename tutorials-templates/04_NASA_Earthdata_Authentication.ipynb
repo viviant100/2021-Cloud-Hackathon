{
  "cells": [
    {
      "cell_type": "markdown",
      "metadata": {},
      "source": [
        "# 04. Authentication for NASA Earthdata \n",
        "\n",
        "## Summary\n",
        "This notebook creates a hidden `.netrc` file (`_netrc` for Window OS) with Earthdata login credentials in your home directory. This file is needed to access NASA Earthdata assets from a scripting environment like Python.\n",
        "\n",
        "### Earthdata Login\n",
        "\n",
        "An Earthdata Login account is required to access data, as well as discover restricted data, from the NASA Earthdata system. Thus, to access NASA data, you need Earthdata Login. Please visit <https://urs.earthdata.nasa.gov> to register and manage your Earthdata Login account. This account is free to create and only takes a moment to set up.\n",
        "\n",
        "### Authentication via netrc File\n",
        "\n",
        "You will need a netrc file containing your NASA Earthdata Login credentials in order to execute the notebooks. A netrc file can be created manually within text editor and saved to your home directory. An example of the required content is below.\n",
        "\n",
        "```text\n",
        "machine urs.earthdata.nasa.gov\n",
        "login <USERNAME>\n",
        "password <PASSWORD>\n",
        "```\n",
        "\n",
        "`<USERNAME>` and `<PASSWORD>` would be replaced by your actual Earthdata Login username and password respectively.\n",
        "\n",
        "## Import Required Packages"
      ]
    },
    {
      "cell_type": "code",
      "metadata": {},
      "source": [
        "#"
      ],
      "execution_count": null,
      "outputs": []
    },
    {
      "cell_type": "markdown",
      "metadata": {},
      "source": [
        "The code below will:\n",
        "\n",
        "1. check what operating system (OS) is being used to determine which netrc file to check for/create (.netrc or _netrc)\n",
        "2. check if you have an netrc file, and if so, varify if those credentials are for the Earthdata endpoint\n",
        "3. create a netrc file if a netrc file is not present."
      ]
    },
    {
      "cell_type": "code",
      "metadata": {},
      "source": [
        "#"
      ],
      "execution_count": null,
      "outputs": []
    },
    {
      "cell_type": "markdown",
      "metadata": {},
      "source": [
        "#### See if the file was created\n",
        "\n",
        "If the file was created, we'll see a `.netrc` file (`_netrc` for Window OS) in the list printed below. To view the contents from a Jupyter environment, click **File** on the top toolbar, select **Open from Path...**, type **.netrc**, and click **Open**. The `.netrc` file will open within the text editor. \n",
        "\n",
        "> **!!! Beware,** your password will be visible if the `.netrc` file is opened in the text editor."
      ]
    },
    {
      "cell_type": "code",
      "metadata": {},
      "source": [
        "#"
      ],
      "execution_count": null,
      "outputs": []
    }
  ],
  "metadata": {
    "kernelspec": {
      "display_name": "Python 3",
      "language": "python",
      "name": "python3"
    }
  },
  "nbformat": 4,
  "nbformat_minor": 4
}