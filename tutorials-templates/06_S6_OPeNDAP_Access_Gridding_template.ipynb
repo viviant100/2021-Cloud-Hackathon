{
 "cells": [
  {
   "cell_type": "markdown",
   "id": "applicable-marina",
   "metadata": {},
   "source": [
    "# 06. Sentinel-6 MF L2 Altimetry Data Access (OPeNDAP) & Gridding\n",
    "\n",
    "In this tutorial you will learn...\n",
    "\n",
    "1. about level 2 radar altimetry data from the Sentinel-6 Michael Freilich mission;\n",
    "2. how to efficiently download variable subsets using OPeNDAP;\n",
    "3. how to grid the along-track altimetry observations produced by S6 at level 2.;\n",
    "\n",
    "### About Ocean Surface Topography (OST)\n",
    "\n",
    "<img src=\"https://podaac.jpl.nasa.gov/sites/default/files/content/PO.DAAC_SAT_Timeline_high_res.jpg\" width=\"60%\">\n",
    "\n",
    "The primary contribution of satellite altimetry to satellite oceanography has been to:\n",
    "\n",
    "* Improve the knowledge of ocean tides and develop global tide models.\n",
    "* Monitor the variation of global mean sea level and its relationship to changes in ocean mass and heat content.\n",
    "* Map the general circulation variability of the ocean, including the ocean mesoscale, over decades and in near real-time using multi-satellite altimetric sampling.\n",
    "\n",
    "### About Sentinel-6 MF\n",
    "\n",
    "https://search.earthdata.nasa.gov/search?fpj=Sentinel-6\n",
    "\n",
    "<img src=\"https://sealevel.jpl.nasa.gov/system/downloadable_items/348_Image13-Sentinel6-1000.jpg\" width=\"55%\">\n",
    "\n",
    "https://podaac.jpl.nasa.gov/Sentinel-6\n",
    "\n",
    "#### Mission Characteristics\n",
    "\n",
    "```yaml\n",
    "Semi-major axis: 7,714.43 km\n",
    "Eccentricity: 0.000095\n",
    "Inclination: 66.04°\n",
    "Argument of periapsis: 90.0°\n",
    "Mean anomaly: 253.13°\n",
    "Reference altitude: 1,336 km\n",
    "Nodal period: 6,745.72 sec\n",
    "Repeat period: 9.9156 days\n",
    "Number of revolutions within a cycle: 127\n",
    "Number of passes within a cycle: 254\n",
    "Equatorial cross track separation: 315 km\n",
    "Ground track control band: +1 km\n",
    "Acute angle at Equator crossings: 39.5°\n",
    "Ground track speed: 5.8 km/s\n",
    "```"
   ]
  },
  {
   "cell_type": "markdown",
   "id": "judicial-necessity",
   "metadata": {
    "tags": []
   },
   "source": [
    "### Requirements\n",
    "\n",
    "This workflow was developed using Python 3.9 (and tested against versions 3.7, 3.8)."
   ]
  },
  {
   "cell_type": "code",
   "execution_count": 3,
   "id": "becoming-receptor",
   "metadata": {},
   "outputs": [],
   "source": [
    "import os\n",
    "import tqdm\n",
    "import numpy as np\n",
    "import xarray as xr\n",
    "import matplotlib.pyplot as plt\n",
    "from concurrent.futures import ThreadPoolExecutor\n",
    "from pyresample.kd_tree import resample_gauss\n",
    "import pyresample as pr"
   ]
  },
  {
   "cell_type": "markdown",
   "id": "011efef5-77d3-4fe5-9e81-6ce3bc19ddfc",
   "metadata": {},
   "source": [
    "### Dataset\n",
    "\n",
    "https://podaac.jpl.nasa.gov/dataset/JASON_CS_S6A_L2_ALT_LR_RED_OST_NRT_F\n",
    "\n",
    "This example operates on Level 2 Low Resolution Altimetry from Sentinel-6 Michael Freilich (the Near Real Time Reduced distribution). It is most easily identified by its collection *ShortName*, given below with the more cryptic *concept-id*, it's unique identifier in the CMR."
   ]
  },
  {
   "cell_type": "code",
   "execution_count": 4,
   "id": "cedf997e-b2f2-466f-a167-a6eeec00a195",
   "metadata": {},
   "outputs": [],
   "source": [
    "ShortName = 'JASON_CS_S6A_L2_ALT_LR_RED_OST_NRT_F'\n",
    "concept_id = 'C1968980576-POCLOUD'"
   ]
  },
  {
   "cell_type": "markdown",
   "id": "2cd34873-874c-4234-aae4-50e07b3e24cd",
   "metadata": {},
   "source": [
    "<img src=\"https://podaac.jpl.nasa.gov/Podaac/thumbnails/JASON_CS_S6A_L2_ALT_LR_RED_OST_NRT_F.jpg\" width=\"80%\">\n",
    "\n",
    "#### OPeNDAP\n",
    "\n",
    "https://opendap.github.io/documentation/UserGuideComprehensive.html#Constraint_Expressions (Hyrax/OPeNDAP docs)    \n",
    "\n",
    "How to get the list of opendap endpoints hard-coded in the following cell:\n",
    "\n",
    "```ipython\n",
    "cycle = 25\n",
    "\n",
    "url = f\"https://cmr.earthdata.nasa.gov/search/granules.csv?ShortName={ShortName}&cycle={cycle}&page_size=200\"\n",
    "\n",
    "!curl --silent --output \"results.csv\" \"$url\"\n",
    "\n",
    "files = !cat results.csv | tail --lines=+2 | cut --delimiter=',' --field=5 | cut --delimiter='/' --field=6\n",
    "\n",
    "variables = ['data_01_time',\n",
    "             'data_01_longitude',\n",
    "             'data_01_latitude',\n",
    "             'data_01_ku_ssha']\n",
    "\n",
    "v = \",\".join(variables)\n",
    "\n",
    "for f in files:\n",
    "    print(f\"https://opendap.earthdata.nasa.gov/collections/{concept_id}/granules/{f}4?{v}\")\n",
    "```"
   ]
  },
  {
   "cell_type": "code",
   "execution_count": 21,
   "id": "50b9b14d-3010-489a-b13d-197e65b5bed4",
   "metadata": {},
   "outputs": [
    {
     "name": "stdout",
     "output_type": "stream",
     "text": [
      "Writing subsets.txt\n"
     ]
    }
   ],
   "source": [
    "%%file subsets.txt\n",
    "https://opendap.earthdata.nasa.gov/collections/C1968980576-POCLOUD/granules/S6A_P4_2__LR_RED__NR_025_001_20210713T162644_20210713T182234_F02.nc4?data_01_time,data_01_longitude,data_01_latitude,data_01_ku_ssha\n",
    "https://opendap.earthdata.nasa.gov/collections/C1968980576-POCLOUD/granules/S6A_P4_2__LR_RED__NR_025_003_20210713T182234_20210713T201839_F02.nc4?data_01_time,data_01_longitude,data_01_latitude,data_01_ku_ssha\n",
    "https://opendap.earthdata.nasa.gov/collections/C1968980576-POCLOUD/granules/S6A_P4_2__LR_RED__NR_025_006_20210713T201839_20210713T215450_F02.nc4?data_01_time,data_01_longitude,data_01_latitude,data_01_ku_ssha\n",
    "https://opendap.earthdata.nasa.gov/collections/C1968980576-POCLOUD/granules/S6A_P4_2__LR_RED__NR_025_007_20210713T215450_20210713T234732_F02.nc4?data_01_time,data_01_longitude,data_01_latitude,data_01_ku_ssha\n",
    "https://opendap.earthdata.nasa.gov/collections/C1968980576-POCLOUD/granules/S6A_P4_2__LR_RED__NR_025_009_20210713T234732_20210714T014224_F02.nc4?data_01_time,data_01_longitude,data_01_latitude,data_01_ku_ssha\n",
    "https://opendap.earthdata.nasa.gov/collections/C1968980576-POCLOUD/granules/S6A_P4_2__LR_RED__NR_025_011_20210714T014224_20210714T033812_F02.nc4?data_01_time,data_01_longitude,data_01_latitude,data_01_ku_ssha\n",
    "https://opendap.earthdata.nasa.gov/collections/C1968980576-POCLOUD/granules/S6A_P4_2__LR_RED__NR_025_013_20210714T033812_20210714T053356_F02.nc4?data_01_time,data_01_longitude,data_01_latitude,data_01_ku_ssha\n",
    "https://opendap.earthdata.nasa.gov/collections/C1968980576-POCLOUD/granules/S6A_P4_2__LR_RED__NR_025_015_20210714T053357_20210714T072934_F02.nc4?data_01_time,data_01_longitude,data_01_latitude,data_01_ku_ssha\n",
    "https://opendap.earthdata.nasa.gov/collections/C1968980576-POCLOUD/granules/S6A_P4_2__LR_RED__NR_025_017_20210714T072934_20210714T090919_F02.nc4?data_01_time,data_01_longitude,data_01_latitude,data_01_ku_ssha\n",
    "https://opendap.earthdata.nasa.gov/collections/C1968980576-POCLOUD/granules/S6A_P4_2__LR_RED__NR_025_019_20210714T090919_20210714T110146_F02.nc4?data_01_time,data_01_longitude,data_01_latitude,data_01_ku_ssha\n",
    "https://opendap.earthdata.nasa.gov/collections/C1968980576-POCLOUD/granules/S6A_P4_2__LR_RED__NR_025_021_20210714T110146_20210714T125702_F02.nc4?data_01_time,data_01_longitude,data_01_latitude,data_01_ku_ssha\n",
    "https://opendap.earthdata.nasa.gov/collections/C1968980576-POCLOUD/granules/S6A_P4_2__LR_RED__NR_025_023_20210714T125702_20210714T145316_F02.nc4?data_01_time,data_01_longitude,data_01_latitude,data_01_ku_ssha\n",
    "https://opendap.earthdata.nasa.gov/collections/C1968980576-POCLOUD/granules/S6A_P4_2__LR_RED__NR_025_025_20210714T145317_20210714T164922_F02.nc4?data_01_time,data_01_longitude,data_01_latitude,data_01_ku_ssha\n",
    "https://opendap.earthdata.nasa.gov/collections/C1968980576-POCLOUD/granules/S6A_P4_2__LR_RED__NR_025_027_20210714T164922_20210714T184510_F02.nc4?data_01_time,data_01_longitude,data_01_latitude,data_01_ku_ssha\n",
    "https://opendap.earthdata.nasa.gov/collections/C1968980576-POCLOUD/granules/S6A_P4_2__LR_RED__NR_025_029_20210714T184510_20210714T204143_F02.nc4?data_01_time,data_01_longitude,data_01_latitude,data_01_ku_ssha\n",
    "https://opendap.earthdata.nasa.gov/collections/C1968980576-POCLOUD/granules/S6A_P4_2__LR_RED__NR_025_032_20210714T204143_20210714T221611_F02.nc4?data_01_time,data_01_longitude,data_01_latitude,data_01_ku_ssha\n",
    "https://opendap.earthdata.nasa.gov/collections/C1968980576-POCLOUD/granules/S6A_P4_2__LR_RED__NR_025_033_20210714T221611_20210715T000941_F02.nc4?data_01_time,data_01_longitude,data_01_latitude,data_01_ku_ssha\n",
    "https://opendap.earthdata.nasa.gov/collections/C1968980576-POCLOUD/granules/S6A_P4_2__LR_RED__NR_025_035_20210715T000941_20210715T020456_F02.nc4?data_01_time,data_01_longitude,data_01_latitude,data_01_ku_ssha\n",
    "https://opendap.earthdata.nasa.gov/collections/C1968980576-POCLOUD/granules/S6A_P4_2__LR_RED__NR_025_037_20210715T020456_20210715T040047_F02.nc4?data_01_time,data_01_longitude,data_01_latitude,data_01_ku_ssha\n",
    "https://opendap.earthdata.nasa.gov/collections/C1968980576-POCLOUD/granules/S6A_P4_2__LR_RED__NR_025_039_20210715T040047_20210715T055630_F02.nc4?data_01_time,data_01_longitude,data_01_latitude,data_01_ku_ssha\n",
    "https://opendap.earthdata.nasa.gov/collections/C1968980576-POCLOUD/granules/S6A_P4_2__LR_RED__NR_025_041_20210715T055630_20210715T075208_F02.nc4?data_01_time,data_01_longitude,data_01_latitude,data_01_ku_ssha\n",
    "https://opendap.earthdata.nasa.gov/collections/C1968980576-POCLOUD/granules/S6A_P4_2__LR_RED__NR_025_043_20210715T075208_20210715T093037_F02.nc4?data_01_time,data_01_longitude,data_01_latitude,data_01_ku_ssha\n",
    "https://opendap.earthdata.nasa.gov/collections/C1968980576-POCLOUD/granules/S6A_P4_2__LR_RED__NR_025_045_20210715T093037_20210715T112356_F02.nc4?data_01_time,data_01_longitude,data_01_latitude,data_01_ku_ssha\n",
    "https://opendap.earthdata.nasa.gov/collections/C1968980576-POCLOUD/granules/S6A_P4_2__LR_RED__NR_025_047_20210715T112356_20210715T131944_F02.nc4?data_01_time,data_01_longitude,data_01_latitude,data_01_ku_ssha\n",
    "https://opendap.earthdata.nasa.gov/collections/C1968980576-POCLOUD/granules/S6A_P4_2__LR_RED__NR_025_049_20210715T131944_20210715T151600_F02.nc4?data_01_time,data_01_longitude,data_01_latitude,data_01_ku_ssha\n",
    "https://opendap.earthdata.nasa.gov/collections/C1968980576-POCLOUD/granules/S6A_P4_2__LR_RED__NR_025_051_20210715T151602_20210715T165851_F02.nc4?data_01_time,data_01_longitude,data_01_latitude,data_01_ku_ssha\n",
    "https://opendap.earthdata.nasa.gov/collections/C1968980576-POCLOUD/granules/S6A_P4_2__LR_RED__NR_025_053_20210715T171228_20210715T190748_F02.nc4?data_01_time,data_01_longitude,data_01_latitude,data_01_ku_ssha\n",
    "https://opendap.earthdata.nasa.gov/collections/C1968980576-POCLOUD/granules/S6A_P4_2__LR_RED__NR_025_056_20210715T190748_20210715T204627_F02.nc4?data_01_time,data_01_longitude,data_01_latitude,data_01_ku_ssha\n",
    "https://opendap.earthdata.nasa.gov/collections/C1968980576-POCLOUD/granules/S6A_P4_2__LR_RED__NR_025_057_20210715T204627_20210715T223758_F02.nc4?data_01_time,data_01_longitude,data_01_latitude,data_01_ku_ssha\n",
    "https://opendap.earthdata.nasa.gov/collections/C1968980576-POCLOUD/granules/S6A_P4_2__LR_RED__NR_025_059_20210715T223758_20210716T003159_F02.nc4?data_01_time,data_01_longitude,data_01_latitude,data_01_ku_ssha\n",
    "https://opendap.earthdata.nasa.gov/collections/C1968980576-POCLOUD/granules/S6A_P4_2__LR_RED__NR_025_061_20210716T003159_20210716T022732_F02.nc4?data_01_time,data_01_longitude,data_01_latitude,data_01_ku_ssha\n",
    "https://opendap.earthdata.nasa.gov/collections/C1968980576-POCLOUD/granules/S6A_P4_2__LR_RED__NR_025_063_20210716T022732_20210716T042333_F02.nc4?data_01_time,data_01_longitude,data_01_latitude,data_01_ku_ssha\n",
    "https://opendap.earthdata.nasa.gov/collections/C1968980576-POCLOUD/granules/S6A_P4_2__LR_RED__NR_025_065_20210716T042333_20210716T061901_F02.nc4?data_01_time,data_01_longitude,data_01_latitude,data_01_ku_ssha\n",
    "https://opendap.earthdata.nasa.gov/collections/C1968980576-POCLOUD/granules/S6A_P4_2__LR_RED__NR_025_067_20210716T061901_20210716T081446_F02.nc4?data_01_time,data_01_longitude,data_01_latitude,data_01_ku_ssha\n",
    "https://opendap.earthdata.nasa.gov/collections/C1968980576-POCLOUD/granules/S6A_P4_2__LR_RED__NR_025_070_20210716T081446_20210716T095203_F02.nc4?data_01_time,data_01_longitude,data_01_latitude,data_01_ku_ssha\n",
    "https://opendap.earthdata.nasa.gov/collections/C1968980576-POCLOUD/granules/S6A_P4_2__LR_RED__NR_025_071_20210716T095203_20210716T114624_F02.nc4?data_01_time,data_01_longitude,data_01_latitude,data_01_ku_ssha\n",
    "https://opendap.earthdata.nasa.gov/collections/C1968980576-POCLOUD/granules/S6A_P4_2__LR_RED__NR_025_073_20210716T114624_20210716T134228_F02.nc4?data_01_time,data_01_longitude,data_01_latitude,data_01_ku_ssha\n",
    "https://opendap.earthdata.nasa.gov/collections/C1968980576-POCLOUD/granules/S6A_P4_2__LR_RED__NR_025_075_20210716T134228_20210716T153841_F02.nc4?data_01_time,data_01_longitude,data_01_latitude,data_01_ku_ssha\n",
    "https://opendap.earthdata.nasa.gov/collections/C1968980576-POCLOUD/granules/S6A_P4_2__LR_RED__NR_025_077_20210716T153841_20210716T173433_F02.nc4?data_01_time,data_01_longitude,data_01_latitude,data_01_ku_ssha\n",
    "https://opendap.earthdata.nasa.gov/collections/C1968980576-POCLOUD/granules/S6A_P4_2__LR_RED__NR_025_079_20210716T173433_20210716T193033_F02.nc4?data_01_time,data_01_longitude,data_01_latitude,data_01_ku_ssha\n",
    "https://opendap.earthdata.nasa.gov/collections/C1968980576-POCLOUD/granules/S6A_P4_2__LR_RED__NR_025_082_20210716T193033_20210716T210718_F02.nc4?data_01_time,data_01_longitude,data_01_latitude,data_01_ku_ssha\n",
    "https://opendap.earthdata.nasa.gov/collections/C1968980576-POCLOUD/granules/S6A_P4_2__LR_RED__NR_025_083_20210716T210718_20210716T225942_F02.nc4?data_01_time,data_01_longitude,data_01_latitude,data_01_ku_ssha\n",
    "https://opendap.earthdata.nasa.gov/collections/C1968980576-POCLOUD/granules/S6A_P4_2__LR_RED__NR_025_085_20210716T225942_20210717T005425_F02.nc4?data_01_time,data_01_longitude,data_01_latitude,data_01_ku_ssha\n",
    "https://opendap.earthdata.nasa.gov/collections/C1968980576-POCLOUD/granules/S6A_P4_2__LR_RED__NR_025_087_20210717T005425_20210717T025012_F02.nc4?data_01_time,data_01_longitude,data_01_latitude,data_01_ku_ssha\n",
    "https://opendap.earthdata.nasa.gov/collections/C1968980576-POCLOUD/granules/S6A_P4_2__LR_RED__NR_025_089_20210717T025012_20210717T044557_F02.nc4?data_01_time,data_01_longitude,data_01_latitude,data_01_ku_ssha\n",
    "https://opendap.earthdata.nasa.gov/collections/C1968980576-POCLOUD/granules/S6A_P4_2__LR_RED__NR_025_091_20210717T044557_20210717T064133_F02.nc4?data_01_time,data_01_longitude,data_01_latitude,data_01_ku_ssha\n",
    "https://opendap.earthdata.nasa.gov/collections/C1968980576-POCLOUD/granules/S6A_P4_2__LR_RED__NR_025_093_20210717T064133_20210717T082134_F02.nc4?data_01_time,data_01_longitude,data_01_latitude,data_01_ku_ssha\n",
    "https://opendap.earthdata.nasa.gov/collections/C1968980576-POCLOUD/granules/S6A_P4_2__LR_RED__NR_025_095_20210717T082134_20210717T101352_F02.nc4?data_01_time,data_01_longitude,data_01_latitude,data_01_ku_ssha\n",
    "https://opendap.earthdata.nasa.gov/collections/C1968980576-POCLOUD/granules/S6A_P4_2__LR_RED__NR_025_097_20210717T101352_20210717T120859_F02.nc4?data_01_time,data_01_longitude,data_01_latitude,data_01_ku_ssha\n",
    "https://opendap.earthdata.nasa.gov/collections/C1968980576-POCLOUD/granules/S6A_P4_2__LR_RED__NR_025_099_20210717T120859_20210717T140513_F02.nc4?data_01_time,data_01_longitude,data_01_latitude,data_01_ku_ssha\n",
    "https://opendap.earthdata.nasa.gov/collections/C1968980576-POCLOUD/granules/S6A_P4_2__LR_RED__NR_025_101_20210717T140513_20210717T160120_F02.nc4?data_01_time,data_01_longitude,data_01_latitude,data_01_ku_ssha\n",
    "https://opendap.earthdata.nasa.gov/collections/C1968980576-POCLOUD/granules/S6A_P4_2__LR_RED__NR_025_103_20210717T160120_20210717T175708_F02.nc4?data_01_time,data_01_longitude,data_01_latitude,data_01_ku_ssha\n",
    "https://opendap.earthdata.nasa.gov/collections/C1968980576-POCLOUD/granules/S6A_P4_2__LR_RED__NR_025_105_20210717T175708_20210717T195329_F02.nc4?data_01_time,data_01_longitude,data_01_latitude,data_01_ku_ssha\n",
    "https://opendap.earthdata.nasa.gov/collections/C1968980576-POCLOUD/granules/S6A_P4_2__LR_RED__NR_025_108_20210717T195329_20210717T212832_F02.nc4?data_01_time,data_01_longitude,data_01_latitude,data_01_ku_ssha\n",
    "https://opendap.earthdata.nasa.gov/collections/C1968980576-POCLOUD/granules/S6A_P4_2__LR_RED__NR_025_109_20210717T212832_20210717T232147_F02.nc4?data_01_time,data_01_longitude,data_01_latitude,data_01_ku_ssha\n",
    "https://opendap.earthdata.nasa.gov/collections/C1968980576-POCLOUD/granules/S6A_P4_2__LR_RED__NR_025_111_20210717T232147_20210718T011655_F02.nc4?data_01_time,data_01_longitude,data_01_latitude,data_01_ku_ssha\n",
    "https://opendap.earthdata.nasa.gov/collections/C1968980576-POCLOUD/granules/S6A_P4_2__LR_RED__NR_025_113_20210718T011655_20210718T031245_F02.nc4?data_01_time,data_01_longitude,data_01_latitude,data_01_ku_ssha\n",
    "https://opendap.earthdata.nasa.gov/collections/C1968980576-POCLOUD/granules/S6A_P4_2__LR_RED__NR_025_115_20210718T031245_20210718T050829_F02.nc4?data_01_time,data_01_longitude,data_01_latitude,data_01_ku_ssha\n",
    "https://opendap.earthdata.nasa.gov/collections/C1968980576-POCLOUD/granules/S6A_P4_2__LR_RED__NR_025_117_20210718T050829_20210718T070406_F02.nc4?data_01_time,data_01_longitude,data_01_latitude,data_01_ku_ssha\n",
    "https://opendap.earthdata.nasa.gov/collections/C1968980576-POCLOUD/granules/S6A_P4_2__LR_RED__NR_025_119_20210718T070406_20210718T084306_F02.nc4?data_01_time,data_01_longitude,data_01_latitude,data_01_ku_ssha\n",
    "https://opendap.earthdata.nasa.gov/collections/C1968980576-POCLOUD/granules/S6A_P4_2__LR_RED__NR_025_121_20210718T084306_20210718T103559_F02.nc4?data_01_time,data_01_longitude,data_01_latitude,data_01_ku_ssha\n",
    "https://opendap.earthdata.nasa.gov/collections/C1968980576-POCLOUD/granules/S6A_P4_2__LR_RED__NR_025_123_20210718T103559_20210718T123140_F02.nc4?data_01_time,data_01_longitude,data_01_latitude,data_01_ku_ssha\n",
    "https://opendap.earthdata.nasa.gov/collections/C1968980576-POCLOUD/granules/S6A_P4_2__LR_RED__NR_025_125_20210718T123140_20210718T142756_F02.nc4?data_01_time,data_01_longitude,data_01_latitude,data_01_ku_ssha\n",
    "https://opendap.earthdata.nasa.gov/collections/C1968980576-POCLOUD/granules/S6A_P4_2__LR_RED__NR_025_127_20210718T142756_20210718T162356_F02.nc4?data_01_time,data_01_longitude,data_01_latitude,data_01_ku_ssha\n",
    "https://opendap.earthdata.nasa.gov/collections/C1968980576-POCLOUD/granules/S6A_P4_2__LR_RED__NR_025_129_20210718T162356_20210718T181945_F02.nc4?data_01_time,data_01_longitude,data_01_latitude,data_01_ku_ssha\n",
    "https://opendap.earthdata.nasa.gov/collections/C1968980576-POCLOUD/granules/S6A_P4_2__LR_RED__NR_025_132_20210718T181945_20210718T195907_F02.nc4?data_01_time,data_01_longitude,data_01_latitude,data_01_ku_ssha\n",
    "https://opendap.earthdata.nasa.gov/collections/C1968980576-POCLOUD/granules/S6A_P4_2__LR_RED__NR_025_133_20210718T195907_20210718T215014_F02.nc4?data_01_time,data_01_longitude,data_01_latitude,data_01_ku_ssha\n",
    "https://opendap.earthdata.nasa.gov/collections/C1968980576-POCLOUD/granules/S6A_P4_2__LR_RED__NR_025_135_20210718T215014_20210718T234402_F02.nc4?data_01_time,data_01_longitude,data_01_latitude,data_01_ku_ssha\n",
    "https://opendap.earthdata.nasa.gov/collections/C1968980576-POCLOUD/granules/S6A_P4_2__LR_RED__NR_025_137_20210718T234402_20210719T013937_F02.nc4?data_01_time,data_01_longitude,data_01_latitude,data_01_ku_ssha\n",
    "https://opendap.earthdata.nasa.gov/collections/C1968980576-POCLOUD/granules/S6A_P4_2__LR_RED__NR_025_139_20210719T013937_20210719T033531_F02.nc4?data_01_time,data_01_longitude,data_01_latitude,data_01_ku_ssha\n",
    "https://opendap.earthdata.nasa.gov/collections/C1968980576-POCLOUD/granules/S6A_P4_2__LR_RED__NR_025_141_20210719T033531_20210719T053101_F02.nc4?data_01_time,data_01_longitude,data_01_latitude,data_01_ku_ssha\n",
    "https://opendap.earthdata.nasa.gov/collections/C1968980576-POCLOUD/granules/S6A_P4_2__LR_RED__NR_025_143_20210719T053101_20210719T072643_F02.nc4?data_01_time,data_01_longitude,data_01_latitude,data_01_ku_ssha\n",
    "https://opendap.earthdata.nasa.gov/collections/C1968980576-POCLOUD/granules/S6A_P4_2__LR_RED__NR_025_146_20210719T072643_20210719T090425_F02.nc4?data_01_time,data_01_longitude,data_01_latitude,data_01_ku_ssha\n",
    "https://opendap.earthdata.nasa.gov/collections/C1968980576-POCLOUD/granules/S6A_P4_2__LR_RED__NR_025_147_20210719T090425_20210719T105824_F02.nc4?data_01_time,data_01_longitude,data_01_latitude,data_01_ku_ssha\n",
    "https://opendap.earthdata.nasa.gov/collections/C1968980576-POCLOUD/granules/S6A_P4_2__LR_RED__NR_025_149_20210719T105824_20210719T125424_F02.nc4?data_01_time,data_01_longitude,data_01_latitude,data_01_ku_ssha\n",
    "https://opendap.earthdata.nasa.gov/collections/C1968980576-POCLOUD/granules/S6A_P4_2__LR_RED__NR_025_151_20210719T125424_20210719T145038_F02.nc4?data_01_time,data_01_longitude,data_01_latitude,data_01_ku_ssha\n",
    "https://opendap.earthdata.nasa.gov/collections/C1968980576-POCLOUD/granules/S6A_P4_2__LR_RED__NR_025_153_20210719T145541_20210719T164632_F02.nc4?data_01_time,data_01_longitude,data_01_latitude,data_01_ku_ssha\n",
    "https://opendap.earthdata.nasa.gov/collections/C1968980576-POCLOUD/granules/S6A_P4_2__LR_RED__NR_025_155_20210719T164632_20210719T184227_F02.nc4?data_01_time,data_01_longitude,data_01_latitude,data_01_ku_ssha\n",
    "https://opendap.earthdata.nasa.gov/collections/C1968980576-POCLOUD/granules/S6A_P4_2__LR_RED__NR_025_158_20210719T184227_20210719T201949_F02.nc4?data_01_time,data_01_longitude,data_01_latitude,data_01_ku_ssha\n",
    "https://opendap.earthdata.nasa.gov/collections/C1968980576-POCLOUD/granules/S6A_P4_2__LR_RED__NR_025_159_20210719T201949_20210719T221154_F02.nc4?data_01_time,data_01_longitude,data_01_latitude,data_01_ku_ssha\n",
    "https://opendap.earthdata.nasa.gov/collections/C1968980576-POCLOUD/granules/S6A_P4_2__LR_RED__NR_025_161_20210719T221154_20210720T000626_F02.nc4?data_01_time,data_01_longitude,data_01_latitude,data_01_ku_ssha\n",
    "https://opendap.earthdata.nasa.gov/collections/C1968980576-POCLOUD/granules/S6A_P4_2__LR_RED__NR_025_163_20210720T000626_20210720T020212_F02.nc4?data_01_time,data_01_longitude,data_01_latitude,data_01_ku_ssha\n",
    "https://opendap.earthdata.nasa.gov/collections/C1968980576-POCLOUD/granules/S6A_P4_2__LR_RED__NR_025_165_20210720T020212_20210720T035756_F02.nc4?data_01_time,data_01_longitude,data_01_latitude,data_01_ku_ssha\n",
    "https://opendap.earthdata.nasa.gov/collections/C1968980576-POCLOUD/granules/S6A_P4_2__LR_RED__NR_025_167_20210720T035756_20210720T055333_F02.nc4?data_01_time,data_01_longitude,data_01_latitude,data_01_ku_ssha\n",
    "https://opendap.earthdata.nasa.gov/collections/C1968980576-POCLOUD/granules/S6A_P4_2__LR_RED__NR_025_169_20210720T055333_20210720T073350_F02.nc4?data_01_time,data_01_longitude,data_01_latitude,data_01_ku_ssha\n",
    "https://opendap.earthdata.nasa.gov/collections/C1968980576-POCLOUD/granules/S6A_P4_2__LR_RED__NR_025_171_20210720T073350_20210720T092602_F02.nc4?data_01_time,data_01_longitude,data_01_latitude,data_01_ku_ssha\n",
    "https://opendap.earthdata.nasa.gov/collections/C1968980576-POCLOUD/granules/S6A_P4_2__LR_RED__NR_025_173_20210720T092602_20210720T112057_F02.nc4?data_01_time,data_01_longitude,data_01_latitude,data_01_ku_ssha\n",
    "https://opendap.earthdata.nasa.gov/collections/C1968980576-POCLOUD/granules/S6A_P4_2__LR_RED__NR_025_175_20210720T112057_20210720T131708_F02.nc4?data_01_time,data_01_longitude,data_01_latitude,data_01_ku_ssha\n",
    "https://opendap.earthdata.nasa.gov/collections/C1968980576-POCLOUD/granules/S6A_P4_2__LR_RED__NR_025_177_20210720T131708_20210720T151317_F02.nc4?data_01_time,data_01_longitude,data_01_latitude,data_01_ku_ssha\n",
    "https://opendap.earthdata.nasa.gov/collections/C1968980576-POCLOUD/granules/S6A_P4_2__LR_RED__NR_025_184_20210720T190549_20210720T204056_F02.nc4?data_01_time,data_01_longitude,data_01_latitude,data_01_ku_ssha\n",
    "https://opendap.earthdata.nasa.gov/collections/C1968980576-POCLOUD/granules/S6A_P4_2__LR_RED__NR_025_185_20210720T204056_20210720T223355_F02.nc4?data_01_time,data_01_longitude,data_01_latitude,data_01_ku_ssha\n",
    "https://opendap.earthdata.nasa.gov/collections/C1968980576-POCLOUD/granules/S6A_P4_2__LR_RED__NR_025_187_20210720T223355_20210721T002855_F02.nc4?data_01_time,data_01_longitude,data_01_latitude,data_01_ku_ssha\n",
    "https://opendap.earthdata.nasa.gov/collections/C1968980576-POCLOUD/granules/S6A_P4_2__LR_RED__NR_025_189_20210721T002855_20210721T022443_F02.nc4?data_01_time,data_01_longitude,data_01_latitude,data_01_ku_ssha\n",
    "https://opendap.earthdata.nasa.gov/collections/C1968980576-POCLOUD/granules/S6A_P4_2__LR_RED__NR_025_191_20210721T022443_20210721T042029_F02.nc4?data_01_time,data_01_longitude,data_01_latitude,data_01_ku_ssha\n",
    "https://opendap.earthdata.nasa.gov/collections/C1968980576-POCLOUD/granules/S6A_P4_2__LR_RED__NR_025_193_20210721T042029_20210721T061605_F02.nc4?data_01_time,data_01_longitude,data_01_latitude,data_01_ku_ssha\n",
    "https://opendap.earthdata.nasa.gov/collections/C1968980576-POCLOUD/granules/S6A_P4_2__LR_RED__NR_025_195_20210721T061605_20210721T075531_F02.nc4?data_01_time,data_01_longitude,data_01_latitude,data_01_ku_ssha\n",
    "https://opendap.earthdata.nasa.gov/collections/C1968980576-POCLOUD/granules/S6A_P4_2__LR_RED__NR_025_197_20210721T075531_20210721T094805_F02.nc4?data_01_time,data_01_longitude,data_01_latitude,data_01_ku_ssha\n",
    "https://opendap.earthdata.nasa.gov/collections/C1968980576-POCLOUD/granules/S6A_P4_2__LR_RED__NR_025_199_20210721T094805_20210721T114336_F02.nc4?data_01_time,data_01_longitude,data_01_latitude,data_01_ku_ssha\n",
    "https://opendap.earthdata.nasa.gov/collections/C1968980576-POCLOUD/granules/S6A_P4_2__LR_RED__NR_025_201_20210721T114336_20210721T133952_F02.nc4?data_01_time,data_01_longitude,data_01_latitude,data_01_ku_ssha\n",
    "https://opendap.earthdata.nasa.gov/collections/C1968980576-POCLOUD/granules/S6A_P4_2__LR_RED__NR_025_203_20210721T133952_20210721T153555_F02.nc4?data_01_time,data_01_longitude,data_01_latitude,data_01_ku_ssha\n",
    "https://opendap.earthdata.nasa.gov/collections/C1968980576-POCLOUD/granules/S6A_P4_2__LR_RED__NR_025_205_20210721T153555_20210721T173143_F02.nc4?data_01_time,data_01_longitude,data_01_latitude,data_01_ku_ssha\n",
    "https://opendap.earthdata.nasa.gov/collections/C1968980576-POCLOUD/granules/S6A_P4_2__LR_RED__NR_025_207_20210721T173143_20210721T191151_F02.nc4?data_01_time,data_01_longitude,data_01_latitude,data_01_ku_ssha\n",
    "https://opendap.earthdata.nasa.gov/collections/C1968980576-POCLOUD/granules/S6A_P4_2__LR_RED__NR_025_209_20210721T191151_20210721T210223_F02.nc4?data_01_time,data_01_longitude,data_01_latitude,data_01_ku_ssha\n",
    "https://opendap.earthdata.nasa.gov/collections/C1968980576-POCLOUD/granules/S6A_P4_2__LR_RED__NR_025_211_20210721T210223_20210721T225607_F02.nc4?data_01_time,data_01_longitude,data_01_latitude,data_01_ku_ssha\n",
    "https://opendap.earthdata.nasa.gov/collections/C1968980576-POCLOUD/granules/S6A_P4_2__LR_RED__NR_025_213_20210721T225607_20210722T005131_F02.nc4?data_01_time,data_01_longitude,data_01_latitude,data_01_ku_ssha\n",
    "https://opendap.earthdata.nasa.gov/collections/C1968980576-POCLOUD/granules/S6A_P4_2__LR_RED__NR_025_215_20210722T005131_20210722T024724_F02.nc4?data_01_time,data_01_longitude,data_01_latitude,data_01_ku_ssha\n",
    "https://opendap.earthdata.nasa.gov/collections/C1968980576-POCLOUD/granules/S6A_P4_2__LR_RED__NR_025_217_20210722T024724_20210722T044301_F02.nc4?data_01_time,data_01_longitude,data_01_latitude,data_01_ku_ssha\n",
    "https://opendap.earthdata.nasa.gov/collections/C1968980576-POCLOUD/granules/S6A_P4_2__LR_RED__NR_025_219_20210722T044301_20210722T063841_F02.nc4?data_01_time,data_01_longitude,data_01_latitude,data_01_ku_ssha\n",
    "https://opendap.earthdata.nasa.gov/collections/C1968980576-POCLOUD/granules/S6A_P4_2__LR_RED__NR_025_221_20210722T063841_20210722T081646_F02.nc4?data_01_time,data_01_longitude,data_01_latitude,data_01_ku_ssha\n",
    "https://opendap.earthdata.nasa.gov/collections/C1968980576-POCLOUD/granules/S6A_P4_2__LR_RED__NR_025_223_20210722T081646_20210722T101025_F02.nc4?data_01_time,data_01_longitude,data_01_latitude,data_01_ku_ssha\n",
    "https://opendap.earthdata.nasa.gov/collections/C1968980576-POCLOUD/granules/S6A_P4_2__LR_RED__NR_025_225_20210722T101025_20210722T120619_F02.nc4?data_01_time,data_01_longitude,data_01_latitude,data_01_ku_ssha\n",
    "https://opendap.earthdata.nasa.gov/collections/C1968980576-POCLOUD/granules/S6A_P4_2__LR_RED__NR_025_227_20210722T120619_20210722T140235_F02.nc4?data_01_time,data_01_longitude,data_01_latitude,data_01_ku_ssha\n",
    "https://opendap.earthdata.nasa.gov/collections/C1968980576-POCLOUD/granules/S6A_P4_2__LR_RED__NR_025_229_20210722T140235_20210722T155831_F02.nc4?data_01_time,data_01_longitude,data_01_latitude,data_01_ku_ssha\n",
    "https://opendap.earthdata.nasa.gov/collections/C1968980576-POCLOUD/granules/S6A_P4_2__LR_RED__NR_025_231_20210722T155831_20210722T175423_F02.nc4?data_01_time,data_01_longitude,data_01_latitude,data_01_ku_ssha\n",
    "https://opendap.earthdata.nasa.gov/collections/C1968980576-POCLOUD/granules/S6A_P4_2__LR_RED__NR_025_234_20210722T175423_20210722T193222_F02.nc4?data_01_time,data_01_longitude,data_01_latitude,data_01_ku_ssha\n",
    "https://opendap.earthdata.nasa.gov/collections/C1968980576-POCLOUD/granules/S6A_P4_2__LR_RED__NR_025_235_20210722T193222_20210722T212406_F02.nc4?data_01_time,data_01_longitude,data_01_latitude,data_01_ku_ssha\n",
    "https://opendap.earthdata.nasa.gov/collections/C1968980576-POCLOUD/granules/S6A_P4_2__LR_RED__NR_025_237_20210722T212406_20210722T231828_F02.nc4?data_01_time,data_01_longitude,data_01_latitude,data_01_ku_ssha\n",
    "https://opendap.earthdata.nasa.gov/collections/C1968980576-POCLOUD/granules/S6A_P4_2__LR_RED__NR_025_239_20210722T231828_20210723T011405_F02.nc4?data_01_time,data_01_longitude,data_01_latitude,data_01_ku_ssha\n",
    "https://opendap.earthdata.nasa.gov/collections/C1968980576-POCLOUD/granules/S6A_P4_2__LR_RED__NR_025_241_20210723T011405_20210723T030955_F02.nc4?data_01_time,data_01_longitude,data_01_latitude,data_01_ku_ssha\n",
    "https://opendap.earthdata.nasa.gov/collections/C1968980576-POCLOUD/granules/S6A_P4_2__LR_RED__NR_025_243_20210723T030955_20210723T050533_F02.nc4?data_01_time,data_01_longitude,data_01_latitude,data_01_ku_ssha\n",
    "https://opendap.earthdata.nasa.gov/collections/C1968980576-POCLOUD/granules/S6A_P4_2__LR_RED__NR_025_245_20210723T050533_20210723T064603_F02.nc4?data_01_time,data_01_longitude,data_01_latitude,data_01_ku_ssha\n",
    "https://opendap.earthdata.nasa.gov/collections/C1968980576-POCLOUD/granules/S6A_P4_2__LR_RED__NR_025_247_20210723T064603_20210723T083817_F02.nc4?data_01_time,data_01_longitude,data_01_latitude,data_01_ku_ssha\n",
    "https://opendap.earthdata.nasa.gov/collections/C1968980576-POCLOUD/granules/S6A_P4_2__LR_RED__NR_025_249_20210723T083817_20210723T103256_F02.nc4?data_01_time,data_01_longitude,data_01_latitude,data_01_ku_ssha\n",
    "https://opendap.earthdata.nasa.gov/collections/C1968980576-POCLOUD/granules/S6A_P4_2__LR_RED__NR_025_251_20210723T103256_20210723T122904_F02.nc4?data_01_time,data_01_longitude,data_01_latitude,data_01_ku_ssha\n",
    "https://opendap.earthdata.nasa.gov/collections/C1968980576-POCLOUD/granules/S6A_P4_2__LR_RED__NR_025_253_20210723T122904_20210723T142514_F02.nc4?data_01_time,data_01_longitude,data_01_latitude,data_01_ku_ssha"
   ]
  },
  {
   "cell_type": "code",
   "execution_count": null,
   "id": "9940e1f6-04ae-4d0e-8c7d-8331734df46d",
   "metadata": {},
   "outputs": [],
   "source": []
  },
  {
   "cell_type": "markdown",
   "id": "3a78ad9d-e9fb-4b1c-8165-6633185fd67e",
   "metadata": {
    "tags": []
   },
   "source": [
    "### Download Subsets\n",
    "\n",
    "These functions download one granule from the remote `source` to a local `target`, and will reliably manage simultaneous streaming downloads divided between multiple threads.\n",
    "\n",
    "##### with python3:\n",
    "\n",
    "```python\n",
    "import requests\n",
    "\n",
    "def download(source: str, target: str):\n",
    "    with requests.get(source, stream=True) as remote, open(target, 'wb') as local:\n",
    "        if remote.status_code // 100 == 2: \n",
    "            for chunk in remote.iter_content(chunk_size=1024):\n",
    "                if chunk:\n",
    "                    local.write(chunk)\n",
    "```\n",
    "\n",
    "##### with wget:"
   ]
  },
  {
   "cell_type": "code",
   "execution_count": null,
   "id": "6b03c3b3-4827-4ac8-beeb-9fe4527e476e",
   "metadata": {},
   "outputs": [],
   "source": []
  },
  {
   "cell_type": "code",
   "execution_count": null,
   "id": "88c42915-502b-424c-ae0a-c21883a36148",
   "metadata": {},
   "outputs": [],
   "source": []
  },
  {
   "cell_type": "markdown",
   "id": "eff71540-fc2d-424b-b160-b2aa109bbead",
   "metadata": {},
   "source": [
    "https://docs.python.org/3/library/concurrent.futures.html#threadpoolexecutor    \n",
    "\n",
    "The source files range from 2.5MB to 3.0MB. These OPeNDAP subsets are ~100KB apiece. (anecdote: it took less than 10 minutes to download subsets for >1700 granules/files when I ran this routine for all cycles going back to 2021-06-22.)"
   ]
  },
  {
   "cell_type": "code",
   "execution_count": null,
   "id": "6ffd6489-a1ce-4072-ad75-d671b0dca63c",
   "metadata": {},
   "outputs": [],
   "source": []
  },
  {
   "cell_type": "markdown",
   "id": "69e27bcc-fa64-4166-89ad-d65f5fd16ea8",
   "metadata": {},
   "source": [
    "https://www.gnu.org/software/coreutils/manual/html_node/du-invocation.html    \n",
    "\n",
    "#### Aggregate cycle\n",
    "\n",
    "Sort the list of local subsets to ensure they concatenate in proper order. Call `open_mfdataset` on the list to open all the subsets in memory as one dataset in xarray."
   ]
  },
  {
   "cell_type": "code",
   "execution_count": null,
   "id": "1e5ea107-05ff-46c2-8cfd-27eab5d9295a",
   "metadata": {},
   "outputs": [],
   "source": []
  },
  {
   "cell_type": "markdown",
   "id": "a7b056d7-264f-4211-b77e-e1c8161a341d",
   "metadata": {},
   "source": [
    "https://xarray.pydata.org/en/stable/generated/xarray.open_mfdataset.html    \n",
    "\n",
    "Make a dictionary to rename variables so that the `data_01_` prefix is removed from each one."
   ]
  },
  {
   "cell_type": "code",
   "execution_count": null,
   "id": "e6acd0a9-d2dc-4b94-bfb3-7f74bcf1ac90",
   "metadata": {},
   "outputs": [],
   "source": []
  },
  {
   "cell_type": "markdown",
   "id": "af07e80c-9715-49c6-9804-efcb3219598a",
   "metadata": {},
   "source": [
    "https://docs.python.org/3/library/functions.html#map    \n",
    "https://docs.python.org/3/library/functions.html#zip    "
   ]
  },
  {
   "cell_type": "code",
   "execution_count": null,
   "id": "59bbe2e4-baaa-4991-9bc5-4e99282b9049",
   "metadata": {},
   "outputs": [],
   "source": []
  },
  {
   "cell_type": "markdown",
   "id": "10bd6c36-ca8e-4b15-9bc3-950e5cefe890",
   "metadata": {},
   "source": [
    "#### Plot *ssha* variable"
   ]
  },
  {
   "cell_type": "markdown",
   "id": "8ea7f254-7fa5-4110-876e-f0bea671cd5e",
   "metadata": {},
   "source": [
    "https://xarray.pydata.org/en/stable/generated/xarray.Dataset.rename.html  "
   ]
  },
  {
   "cell_type": "code",
   "execution_count": null,
   "id": "44f203aa-98bc-4359-8f0c-0d6d9535aa57",
   "metadata": {},
   "outputs": [],
   "source": []
  },
  {
   "cell_type": "markdown",
   "id": "2b3bb6bb-31b8-4ac6-b173-ed530ea5b801",
   "metadata": {},
   "source": [
    "### Borrow 0.5-Degree Grid and Mask from ECCO V4r4 \n",
    "\n",
    ">***Acknowledgement**: This approach using [*pyresample*](https://pyresample.readthedocs.io/en/latest/api/pyresample)       was shared to me by Ian Fenty, ECCO Lead.*\n",
    "\n",
    "https://search.earthdata.nasa.gov/search/granules?p=C2013583732-POCLOUD\n",
    "\n",
    "ECCO V4r4 products are distributed in two spatial formats. One set of collections provides the ocean state estimates on the native model grid (LLC0090) and the other provides them after interpolating to a regular grid defined in geographic coordinates with horizontal cell size of 0.5-degrees.\n",
    "\n",
    "It's distributed as its own dataset/collection containing just one file. We can simply download it from the HTTPS download endpoint -- the file size is inconsequential. The next cell downloads the file into the *data* folder from the granule's https endpoint."
   ]
  },
  {
   "cell_type": "code",
   "execution_count": null,
   "id": "be8728fc-24fc-49d2-b514-97b929eadfcd",
   "metadata": {
    "tags": []
   },
   "outputs": [],
   "source": []
  },
  {
   "cell_type": "markdown",
   "id": "28c4fa49-0f46-4f44-850f-8fc79644c993",
   "metadata": {},
   "source": [
    "https://xarray.pydata.org/en/stable/generated/xarray.open_dataset.html   \n",
    "\n",
    "Select index `0` on the `Z` axis/dimension to get the depth layer at ocean surface."
   ]
  },
  {
   "cell_type": "code",
   "execution_count": null,
   "id": "99b0c4d9-b578-4997-9c34-8de987c945e6",
   "metadata": {},
   "outputs": [],
   "source": []
  },
  {
   "cell_type": "markdown",
   "id": "1cf23573-9982-4f21-88f8-320b451a5c8a",
   "metadata": {},
   "source": [
    "https://xarray.pydata.org/en/stable/generated/xarray.DataArray.isel.html    \n",
    "\n",
    "The `maskC` variable contains a boolean mask representing the wet/dry state of the area contained in each cell of the 3d grid defined by `Z` and `latitude` and `longitude`. Here are the variable's attributes:"
   ]
  },
  {
   "cell_type": "code",
   "execution_count": null,
   "id": "8c357316-e630-4477-822e-f28a3fd1f266",
   "metadata": {},
   "outputs": [],
   "source": []
  },
  {
   "cell_type": "markdown",
   "id": "2e803a8d-cd06-421c-893b-7660cf262894",
   "metadata": {},
   "source": [
    "Plot the land/water mask `maskC`:"
   ]
  },
  {
   "cell_type": "code",
   "execution_count": null,
   "id": "60f261b7-03c6-4cbf-ade1-1305f68944e8",
   "metadata": {},
   "outputs": [],
   "source": []
  },
  {
   "cell_type": "markdown",
   "id": "ef90979e-580d-444f-9ec7-22f56e599214",
   "metadata": {
    "tags": []
   },
   "source": [
    "https://xarray.pydata.org/en/stable/generated/xarray.DataArray.plot.html    \n",
    "\n",
    "Define target grid based on the longitudes and latitudes from the ECCO grid geometry dataset. This time define the grid using two 2-dimensional arrays that give positions of all SSHA values in geographic/longitude-latitude coordinates."
   ]
  },
  {
   "cell_type": "code",
   "execution_count": null,
   "id": "cfc6db11-24da-4320-bc68-f74cc3ca8a51",
   "metadata": {},
   "outputs": [],
   "source": []
  },
  {
   "cell_type": "markdown",
   "id": "57cd28fb-afc3-4434-b9c1-7e5be7dc7902",
   "metadata": {},
   "source": [
    "Create the target swath definition from the 2d arrays of lons and lats from ECCO V4r4 0.5-degree grid."
   ]
  },
  {
   "cell_type": "code",
   "execution_count": null,
   "id": "8853c517-5a1c-4c1a-8d6d-5c92ca1353f0",
   "metadata": {},
   "outputs": [],
   "source": []
  },
  {
   "cell_type": "markdown",
   "id": "bccc6c1f-c7ef-4c07-b194-089f95f67175",
   "metadata": {
    "tags": []
   },
   "source": [
    "[pyresample.geometry.SwathDefinition](https://pyresample.readthedocs.io/en/latest/api/pyresample.html#pyresample.geometry.SwathDefinition)    \n",
    "\n",
    "### Grid ssha or other variable\n",
    "\n",
    "Get one timestamp to represent the midpoint of the 10-day cycle."
   ]
  },
  {
   "cell_type": "code",
   "execution_count": null,
   "id": "905fe94b-c7f1-4c5e-ab41-c5ecab112058",
   "metadata": {},
   "outputs": [],
   "source": []
  },
  {
   "cell_type": "markdown",
   "id": "808dd55f-9622-4f4b-ac24-2e7684af45cb",
   "metadata": {},
   "source": [
    "Access the target variable, *ssha* in this case. Make a nan mask from the ssha variable."
   ]
  },
  {
   "cell_type": "code",
   "execution_count": null,
   "id": "66c6d8fb-9824-4af1-8994-c7365841f62a",
   "metadata": {},
   "outputs": [],
   "source": []
  },
  {
   "cell_type": "markdown",
   "id": "26b5bc9f-d6c4-4b1b-9e66-51d05afcffb9",
   "metadata": {},
   "source": [
    "Create the source swath definition from the 1d arrays of lons and lats from the S6 level-2 along-track altimetry time series."
   ]
  },
  {
   "cell_type": "code",
   "execution_count": null,
   "id": "c1c91671-aa6a-44d7-ba78-ff4f26898e22",
   "metadata": {},
   "outputs": [],
   "source": []
  },
  {
   "cell_type": "code",
   "execution_count": null,
   "id": "53f9da3f-6fb1-4df0-8374-35eab67d8fd5",
   "metadata": {},
   "outputs": [],
   "source": []
  },
  {
   "cell_type": "markdown",
   "id": "90ebc1a4-ba50-4d49-afd3-7de954af5aaf",
   "metadata": {},
   "source": [
    "[pyresample.geometry.SwathDefinition](https://pyresample.readthedocs.io/en/latest/api/pyresample.html#pyresample.geometry.SwathDefinition)    "
   ]
  },
  {
   "cell_type": "markdown",
   "id": "d57b0dcc-9d6e-41c1-8bac-1d31fa603b8c",
   "metadata": {},
   "source": [
    "Resample *ssha* data using kd-tree gaussian weighting neighbour approach."
   ]
  },
  {
   "cell_type": "code",
   "execution_count": null,
   "id": "420cab91-ae51-43a5-ba31-1861f8a28f67",
   "metadata": {},
   "outputs": [],
   "source": []
  },
  {
   "cell_type": "markdown",
   "id": "9d08cd31-dd2d-49b5-b262-151c9b67e178",
   "metadata": {},
   "source": [
    "[pyresample.kd_tree.resample_gauss](https://pyresample.readthedocs.io/en/latest/api/pyresample.html#pyresample.kd_tree.resample_gauss)    "
   ]
  },
  {
   "cell_type": "code",
   "execution_count": null,
   "id": "4758f89e-d7e1-4178-9c0f-f294648ef9cb",
   "metadata": {},
   "outputs": [],
   "source": []
  },
  {
   "cell_type": "markdown",
   "id": "dec09349-a61f-49fd-bd85-1a4c2430c9ca",
   "metadata": {},
   "source": [
    "Apply the land/water mask in the numpy array created from the ECCO layer in the steps above. Then, convert the masked numpy array to an xarray data array object named *gridded*. Print its header."
   ]
  },
  {
   "cell_type": "code",
   "execution_count": null,
   "id": "4b53fd82-335d-42a2-bb03-9e4aacf20d33",
   "metadata": {},
   "outputs": [],
   "source": []
  },
  {
   "cell_type": "code",
   "execution_count": null,
   "id": "0d58c69a-aa93-40c8-927e-f6bd1c77829d",
   "metadata": {},
   "outputs": [],
   "source": []
  },
  {
   "cell_type": "code",
   "execution_count": null,
   "id": "2edc244c-8854-47cc-8095-fd3ff414f3ea",
   "metadata": {},
   "outputs": [],
   "source": []
  },
  {
   "cell_type": "markdown",
   "id": "a5b69d9f-bec1-42c7-bbf7-4956c746512c",
   "metadata": {},
   "source": [
    "### Exercise\n",
    "\n",
    "Calculate area-weighted mean sea level."
   ]
  },
  {
   "cell_type": "code",
   "execution_count": null,
   "id": "563765bd-48e5-4491-8bee-a4882fa8e238",
   "metadata": {},
   "outputs": [],
   "source": []
  },
  {
   "cell_type": "markdown",
   "id": "5ad3149f-fbfd-4879-ba6d-1a0db73409a0",
   "metadata": {},
   "source": [
    "### References\n",
    "\n",
    "*numpy* (https://numpy.org/doc/stable/reference)    \n",
    "\n",
    "* [numpy.ndarray.data](https://numpy.org/doc/stable/reference/generated/numpy.ndarray.data.html)      \n",
    "* [numpy.where](https://numpy.org/doc/stable/reference/generated/numpy.where.html)    \n",
    "* [numpy.isnan](https://numpy.org/doc/stable/reference/generated/numpy.isnan.html)    \n",
    "* [datetimes](https://numpy.org/doc/stable/reference/arrays.datetime.html)    \n",
    "* [numpy.sum](https://numpy.org/doc/stable/reference/generated/numpy.sum.html)    \n",
    "* [numpy.nansum](https://numpy.org/doc/stable/reference/generated/numpy.nansum.html)    \n",
    "\n",
    "*xarray* (https://xarray.pydata.org/en/stable)    \n",
    "\n",
    "* [xarray.DataArray](https://xarray.pydata.org/en/stable/generated/xarray.DataArray.html)    \n",
    "* [xarray.DataArray.values](https://xarray.pydata.org/en/stable/generated/xarray.DataArray.values.html)    \n",
    "* [xarray.DataArray.mean](https://xarray.pydata.org/en/stable/generated/xarray.DataArray.mean.html)    "
   ]
  },
  {
   "cell_type": "code",
   "execution_count": null,
   "id": "1f0bd171-ce22-4aa1-a6c4-52dcb9d893af",
   "metadata": {},
   "outputs": [],
   "source": []
  }
 ],
 "metadata": {
  "kernelspec": {
   "display_name": "Python 3 (ipykernel)",
   "language": "python",
   "name": "python3"
  },
  "language_info": {
   "codemirror_mode": {
    "name": "ipython",
    "version": 3
   },
   "file_extension": ".py",
   "mimetype": "text/x-python",
   "name": "python",
   "nbconvert_exporter": "python",
   "pygments_lexer": "ipython3",
   "version": "3.9.7"
  }
 },
 "nbformat": 4,
 "nbformat_minor": 5
}
